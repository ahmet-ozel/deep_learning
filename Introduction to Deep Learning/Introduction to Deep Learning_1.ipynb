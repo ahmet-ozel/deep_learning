{
 "cells": [
  {
   "cell_type": "markdown",
   "id": "321273fe",
   "metadata": {},
   "source": [
    "# Introduction To Deep Learning"
   ]
  },
  {
   "attachments": {},
   "cell_type": "markdown",
   "id": "bcb6e243",
   "metadata": {},
   "source": [
    "![Title](img/image_1.png)"
   ]
  },
  {
   "cell_type": "markdown",
   "id": "805c4fa3",
   "metadata": {},
   "source": [
    "Deep learning focuses on automatic learning in complex data structures using a multi-layered model called artificial neural networks. This approach utilizes artificial neural networks to detect, recognize, and understand patterns in large amounts of data. On the other hand, machine learning is a discipline that aims to enhance a computer's learning ability through algorithms and statistical models. It trains a computer program or model to analyze data, recognize patterns, and make predictions for a specific task.\n",
    "\n",
    "Artificial intelligence, on a broader scale, aims to enable computer systems to possess human-like intelligence. It encompasses various techniques and approaches. These systems can process data, make logical and probabilistic inferences, employ natural human interaction methods such as language and vision, and learn to solve complex problems.\n",
    "\n",
    "In summary, deep learning constructs the model for machine learning to learn, while machine learning determines how it learns. Artificial intelligence combines the self-learning capabilities of deep learning models with machine learning algorithms to enable human-like behavior. Machine learning enables computers to perceive data like humans do."
   ]
  },
  {
   "attachments": {},
   "cell_type": "markdown",
   "id": "3249ae17",
   "metadata": {},
   "source": [
    "![Title](img/image_2.jpg)"
   ]
  },
  {
   "cell_type": "markdown",
   "id": "a6540b44",
   "metadata": {},
   "source": [
    "Fuzzy logic, for instance, is a method used to determine how data should be classified based on certain criteria or perspectives. Let's say we want to classify people as tall or short. What defines \"tall\" and \"short\"? Fuzzy logic comes into play to interpret such information that requires subjective judgment. It is considered a subfield utilized in both machine learning and artificial intelligence domains.\n",
    "\n",
    "An interesting analogy can be drawn between artificial intelligence, machine learning, and deep learning, and the relationship between HTML, CSS, and JavaScript.\n",
    "\n",
    "Once we grasp the essence of artificial intelligence, machine learning, and deep learning, let's delve into Perceptron, which is a subfield of deep learning.\n",
    "\n"
   ]
  },
  {
   "attachments": {},
   "cell_type": "markdown",
   "id": "6ed9fe85",
   "metadata": {},
   "source": [
    "![Title](img/image_3.jpg)"
   ]
  },
  {
   "cell_type": "markdown",
   "id": "03234977",
   "metadata": {},
   "source": [
    "\n",
    "The Perceptron, as you can see, has a specific structure. Let's say you're considering selling your house and want to determine the price at which to sell it. What factors influence the price of the house? For instance, variables like distance to the city center or transportation options, the age of the building, and the square footage of the house could be significant factors, which we can refer to as X1, X2, and X3. But are these factors equally impactful on the house price? Is the influence of the house's size the same as the distance to the center? Perhaps one is more important than the other, with different degrees of impact. To determine this, we utilize weights, denoted as W1, W2, and W3, which represent the relative importance of these factors. Additionally, we can incorporate bias values. The bias value acts as a constant term used to adjust the output towards a desired value. Think of the bias value as giving the house a \"base value\" because the house's worth isn't solely determined by its specified features but also has inherent value as a house. As another example, when deciding how much we love someone, we consider specific traits, but because they are a human, they have an inherent value, which can be seen as the bias value. Our goal is to find these weights and bias values to create a model that can provide us with a price estimation when given the house's features. To accomplish this, we feed the model with features and prices of many houses, allowing it to find the appropriate weights. But how do we achieve this? Firstly, we multiply each variable by its corresponding weight and sum them up:\n",
    "\n",
    "X1 * W1 + X2 * W2 + X3 * W3 + b\n",
    "\n",
    "Once we obtain this value, the question arises: how do we make use of it? And here lies the most remarkable aspect that sets humans apart from other creatures. Curious why? Let me explain."
   ]
  },
  {
   "attachments": {},
   "cell_type": "markdown",
   "id": "32fbdb8b",
   "metadata": {},
   "source": [
    "![Title](img/image_4.jpg)"
   ]
  },
  {
   "cell_type": "markdown",
   "id": "c2b59b47",
   "metadata": {},
   "source": [
    "Let's discuss an experiment with a mouse that David Eagleman shares in his book \"Incognito: The Secret Lives of the Brain.\" The experiment goes like this: a mouse and a piece of cheese are placed in a maze. When the mouse reaches for the cheese, it receives an electric shock. After some time, the mouse becomes frozen because it both wants to eat the cheese and doesn't want to experience another shock. It finds itself unable to retreat or reach for the cheese. Eagleman refers to this as the \"monkey wrench.\" The decision-maker is the one who determines.\n",
    "\n",
    "Within the human brain, there exists a remarkable decision-making mechanism, known as the \"activation function,\" which sets us apart from other creatures. It enables us to process information and arrive at conclusions. We have the ability to select one option among many possibilities. As David Eagleman puts it, \"There's someone inside my head, but it's not me.\" Our decision-making process, the activation function, is highly developed compared to other living beings, making us advanced. I highly recommend exploring this fascinating topic in his book. :)"
   ]
  },
  {
   "attachments": {},
   "cell_type": "markdown",
   "id": "e592d50e",
   "metadata": {},
   "source": [
    "![Title](img/image_5.jpg)"
   ]
  },
  {
   "cell_type": "markdown",
   "id": "0c7411e8",
   "metadata": {},
   "source": [
    "Let's go back to our topic. Now, let's consider the relationship between the price of a house and its features. We can say that there is an almost linear increase in price as the size of the house increases, right? The bigger it is, the more expensive it becomes. Similarly, there is an almost linear decrease in price as the distance to transportation facilities increases. Since there is a linear connection between the defined features and the price, we can use a linear activation function. The linear activation function works as f(x) = x. In other words, the values from weights and inputs are directly passed to the activation function. However, if we wanted to make a decision like \"cat or dog,\" we couldn't use a linear function. We would have to choose an appropriate activation function based on the relationship between the data and the outputs. We will delve into more detailed information about the activation function in our next post.\n",
    "\n",
    "In summary, I have covered the forward propagation stage in the Perceptron. In our next post, we will address the following:\n",
    "\n",
    "• What is backward propagation?\n",
    "• What is an activation function?\n",
    "• What are the types of activation functions?\n",
    "• How are weights determined?\n",
    "\n",
    "We will discuss these topics in detail. Until then, take care!"
   ]
  }
 ],
 "metadata": {
  "kernelspec": {
   "display_name": "Python 3 (ipykernel)",
   "language": "python",
   "name": "python3"
  },
  "language_info": {
   "codemirror_mode": {
    "name": "ipython",
    "version": 3
   },
   "file_extension": ".py",
   "mimetype": "text/x-python",
   "name": "python",
   "nbconvert_exporter": "python",
   "pygments_lexer": "ipython3",
   "version": "3.10.9"
  }
 },
 "nbformat": 4,
 "nbformat_minor": 5
}
